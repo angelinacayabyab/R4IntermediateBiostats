{
  "nbformat": 4,
  "nbformat_minor": 0,
  "metadata": {
    "colab": {
      "provenance": [],
      "authorship_tag": "ABX9TyODByCYVowgMTtKRsNf0TlQ",
      "include_colab_link": true
    },
    "kernelspec": {
      "name": "python3",
      "display_name": "Python 3"
    },
    "language_info": {
      "name": "python"
    }
  },
  "cells": [
    {
      "cell_type": "markdown",
      "metadata": {
        "id": "view-in-github",
        "colab_type": "text"
      },
      "source": [
        "<a href=\"https://colab.research.google.com/github/angelinacayabyab/R4IntermediateBiostats/blob/winter-2024/Assignment_8.ipynb\" target=\"_parent\"><img src=\"https://colab.research.google.com/assets/colab-badge.svg\" alt=\"Open In Colab\"/></a>"
      ]
    },
    {
      "cell_type": "markdown",
      "source": [
        "**Angelina Cayabyab - Intermediate Biostatistics - Assignment 8**"
      ],
      "metadata": {
        "id": "rnGRx8WDd8AB"
      }
    },
    {
      "cell_type": "markdown",
      "source": [
        "**Potential Outcomes**"
      ],
      "metadata": {
        "id": "NHUD9UbPeBPp"
      }
    },
    {
      "cell_type": "code",
      "execution_count": null,
      "metadata": {
        "colab": {
          "base_uri": "https://localhost:8080/"
        },
        "id": "1UH4xmpCdMcx",
        "outputId": "f397e311-0752-4ad1-f18d-98bf6db3aa98"
      },
      "outputs": [
        {
          "output_type": "execute_result",
          "data": {
            "text/plain": [
              "(1.75, 3.0, -1.25)"
            ]
          },
          "metadata": {},
          "execution_count": 2
        }
      ],
      "source": [
        "#1\n",
        "\n",
        "import pandas as pd\n",
        "\n",
        "# Load the scurvy dataset\n",
        "scurvy_data = {\n",
        "    \"treatment\": [\"cider\", \"cider\", \"cider\", \"cider\", \"cider\", \"cider\", \"cider\", \"cider\", \"cider\",\n",
        "                  \"sea_water\", \"sea_water\", \"sea_water\", \"sea_water\", \"sea_water\", \"sea_water\",\n",
        "                  \"sea_water\", \"sea_water\", \"sea_water\", \"vinegar\", \"vinegar\", \"vinegar\", \"vinegar\",\n",
        "                  \"vinegar\", \"vinegar\", \"vinegar\", \"vinegar\", \"vinegar\", \"dilute_sulfuric_acid\",\n",
        "                  \"dilute_sulfuric_acid\", \"dilute_sulfuric_acid\", \"dilute_sulfuric_acid\", \"dilute_sulfuric_acid\",\n",
        "                  \"dilute_sulfuric_acid\", \"dilute_sulfuric_acid\", \"dilute_sulfuric_acid\", \"dilute_sulfuric_acid\",\n",
        "                  \"purgative_mixture\", \"purgative_mixture\", \"purgative_mixture\", \"purgative_mixture\",\n",
        "                  \"purgative_mixture\", \"purgative_mixture\", \"purgative_mixture\", \"purgative_mixture\",\n",
        "                  \"purgative_mixture\", \"citrus\", \"citrus\", \"citrus\", \"citrus\", \"citrus\", \"citrus\", \"citrus\",\n",
        "                  \"citrus\", \"citrus\"],\n",
        "    \"gum_rot\": [\"1d\", \"1d\", \"1d\", \"1d\", \"1d\", \"1d\", \"1d\", \"1d\", \"1d\",\n",
        "                \"3d\", \"3d\", \"3d\", \"3d\", \"3d\", \"3d\", \"3d\", \"3d\", \"3d\",\n",
        "                \"2d\", \"2d\", \"2d\", \"2d\", \"2d\", \"2d\", \"2d\", \"2d\", \"2d\",\n",
        "                \"3d\", \"3d\", \"3d\", \"3d\", \"3d\", \"3d\", \"3d\", \"3d\", \"3d\",\n",
        "                \"3d\", \"3d\", \"3d\", \"3d\", \"3d\", \"3d\", \"3d\", \"3d\", \"3d\",\n",
        "                \"1d\", \"1d\", \"1d\", \"1d\", \"1d\", \"1d\", \"1d\", \"1d\", \"1d\"]\n",
        "}\n",
        "\n",
        "# Convert the data into a DataFrame\n",
        "df = pd.DataFrame(scurvy_data)\n",
        "\n",
        "# Convert the gum_rot to a numeric value by stripping the 'd' and casting to int\n",
        "df['gum_rot'] = df['gum_rot'].str.replace('d', '').astype(int)\n",
        "\n",
        "# Separate the treatments into citrus and non-citrus groups\n",
        "df['citrus'] = df['treatment'].isin(['cider', 'dilute_sulfuric_acid', 'vinegar', 'citrus'])\n",
        "\n",
        "# Compute the naive average treatment effect\n",
        "naive_effect_citrus = df[df['citrus']]['gum_rot'].mean()\n",
        "naive_effect_non_citrus = df[~df['citrus']]['gum_rot'].mean()\n",
        "naive_ate = naive_effect_citrus - naive_effect_non_citrus\n",
        "\n",
        "naive_effect_citrus, naive_effect_non_citrus, naive_ate\n"
      ]
    },
    {
      "cell_type": "code",
      "source": [
        "#2\n",
        "\n",
        "# Create new columns for potential outcomes with and without citrus\n",
        "df['gum_rot_yes_citrus'] = df['gum_rot']\n",
        "df['gum_rot_no_citrus'] = df['gum_rot']\n",
        "\n",
        "# Assuming that the observed outcomes are the potential outcomes for the treatment actually received\n",
        "# Fill in the NAs with counterfactuals, we will make up potential outcomes based on instructions.\n",
        "# For simplicity, I'll assume that if someone received citrus and got a '1', their counterfactual\n",
        "# (without citrus) could be worse by 1 point, making it '2'. And vice versa, if someone did not\n",
        "# receive citrus and got a '3', their counterfactual with citrus could be better by 1 point, making it '2'.\n",
        "\n",
        "# Update potential outcomes according to the scenario\n",
        "# If they received citrus, their counterfactual without citrus would be worse\n",
        "df.loc[df['citrus'], 'gum_rot_no_citrus'] = df.loc[df['citrus'], 'gum_rot_yes_citrus'] + 1\n",
        "# If they didn't receive citrus, their counterfactual with citrus would be better\n",
        "df.loc[~df['citrus'], 'gum_rot_yes_citrus'] = df.loc[~df['citrus'], 'gum_rot_no_citrus'] - 1\n",
        "\n",
        "#3\n",
        "\n",
        "# Making sure our potential outcomes stay within the 0-3 range\n",
        "df['gum_rot_no_citrus'] = df['gum_rot_no_citrus'].clip(0, 3)\n",
        "df['gum_rot_yes_citrus'] = df['gum_rot_yes_citrus'].clip(0, 3)\n",
        "\n",
        "# Calculate the new average treatment effects\n",
        "new_ate_citrus = df['gum_rot_yes_citrus'].mean() - df['gum_rot_no_citrus'].mean()\n",
        "\n",
        "# Adjust the potential outcomes so that the ATE is positive\n",
        "# For simplicity, if the ATE has to be positive, we can increment the potential outcome for citrus by 1\n",
        "if new_ate_citrus <= 0:\n",
        "    df['gum_rot_yes_citrus'] += 1\n",
        "\n",
        "# Ensuring that values are again within the 0-3 range\n",
        "df['gum_rot_yes_citrus'] = df['gum_rot_yes_citrus'].clip(0, 3)\n",
        "\n",
        "# Recalculate the average treatment effects after adjustments\n",
        "adjusted_ate_citrus = df['gum_rot_yes_citrus'].mean() - df['gum_rot_no_citrus'].mean()\n",
        "\n",
        "#4\n",
        "\n",
        "# Now, adjust the potential outcomes so that the ATE is less than -1.5\n",
        "# We can decrement the potential outcome for citrus by 1 more point to achieve this\n",
        "if adjusted_ate_citrus >= -1.5:\n",
        "    df.loc[df['citrus'], 'gum_rot_yes_citrus'] -= 1\n",
        "    df.loc[~df['citrus'], 'gum_rot_no_citrus'] += 1\n",
        "\n",
        "# Once again, ensure that values stay within the 0-3 range\n",
        "df['gum_rot_no_citrus'] = df['gum_rot_no_citrus'].clip(0, 3)\n",
        "df['gum_rot_yes_citrus'] = df['gum_rot_yes_citrus'].clip(0, 3)\n",
        "\n",
        "# Recalculate the average treatment effects after final adjustments\n",
        "final_ate_citrus = df['gum_rot_yes_citrus'].mean() - df['gum_rot_no_citrus'].mean()\n",
        "\n",
        "# Return the final data frame and ATE\n",
        "df[['treatment', 'gum_rot', 'citrus', 'gum_rot_yes_citrus', 'gum_rot_no_citrus']], final_ate_citrus\n"
      ],
      "metadata": {
        "colab": {
          "base_uri": "https://localhost:8080/"
        },
        "id": "YOYPicUJguBB",
        "outputId": "e417978e-d035-450f-ff41-a19237e44cda"
      },
      "execution_count": null,
      "outputs": [
        {
          "output_type": "execute_result",
          "data": {
            "text/plain": [
              "(               treatment  gum_rot  citrus  gum_rot_yes_citrus  \\\n",
              " 0                  cider        1    True                   1   \n",
              " 1                  cider        1    True                   1   \n",
              " 2                  cider        1    True                   1   \n",
              " 3                  cider        1    True                   1   \n",
              " 4                  cider        1    True                   1   \n",
              " 5                  cider        1    True                   1   \n",
              " 6                  cider        1    True                   1   \n",
              " 7                  cider        1    True                   1   \n",
              " 8                  cider        1    True                   1   \n",
              " 9              sea_water        3   False                   3   \n",
              " 10             sea_water        3   False                   3   \n",
              " 11             sea_water        3   False                   3   \n",
              " 12             sea_water        3   False                   3   \n",
              " 13             sea_water        3   False                   3   \n",
              " 14             sea_water        3   False                   3   \n",
              " 15             sea_water        3   False                   3   \n",
              " 16             sea_water        3   False                   3   \n",
              " 17             sea_water        3   False                   3   \n",
              " 18               vinegar        2    True                   2   \n",
              " 19               vinegar        2    True                   2   \n",
              " 20               vinegar        2    True                   2   \n",
              " 21               vinegar        2    True                   2   \n",
              " 22               vinegar        2    True                   2   \n",
              " 23               vinegar        2    True                   2   \n",
              " 24               vinegar        2    True                   2   \n",
              " 25               vinegar        2    True                   2   \n",
              " 26               vinegar        2    True                   2   \n",
              " 27  dilute_sulfuric_acid        3    True                   2   \n",
              " 28  dilute_sulfuric_acid        3    True                   2   \n",
              " 29  dilute_sulfuric_acid        3    True                   2   \n",
              " 30  dilute_sulfuric_acid        3    True                   2   \n",
              " 31  dilute_sulfuric_acid        3    True                   2   \n",
              " 32  dilute_sulfuric_acid        3    True                   2   \n",
              " 33  dilute_sulfuric_acid        3    True                   2   \n",
              " 34  dilute_sulfuric_acid        3    True                   2   \n",
              " 35  dilute_sulfuric_acid        3    True                   2   \n",
              " 36     purgative_mixture        3   False                   3   \n",
              " 37     purgative_mixture        3   False                   3   \n",
              " 38     purgative_mixture        3   False                   3   \n",
              " 39     purgative_mixture        3   False                   3   \n",
              " 40     purgative_mixture        3   False                   3   \n",
              " 41     purgative_mixture        3   False                   3   \n",
              " 42     purgative_mixture        3   False                   3   \n",
              " 43     purgative_mixture        3   False                   3   \n",
              " 44     purgative_mixture        3   False                   3   \n",
              " 45                citrus        1    True                   1   \n",
              " 46                citrus        1    True                   1   \n",
              " 47                citrus        1    True                   1   \n",
              " 48                citrus        1    True                   1   \n",
              " 49                citrus        1    True                   1   \n",
              " 50                citrus        1    True                   1   \n",
              " 51                citrus        1    True                   1   \n",
              " 52                citrus        1    True                   1   \n",
              " 53                citrus        1    True                   1   \n",
              " \n",
              "     gum_rot_no_citrus  \n",
              " 0                   2  \n",
              " 1                   2  \n",
              " 2                   2  \n",
              " 3                   2  \n",
              " 4                   2  \n",
              " 5                   2  \n",
              " 6                   2  \n",
              " 7                   2  \n",
              " 8                   2  \n",
              " 9                   3  \n",
              " 10                  3  \n",
              " 11                  3  \n",
              " 12                  3  \n",
              " 13                  3  \n",
              " 14                  3  \n",
              " 15                  3  \n",
              " 16                  3  \n",
              " 17                  3  \n",
              " 18                  3  \n",
              " 19                  3  \n",
              " 20                  3  \n",
              " 21                  3  \n",
              " 22                  3  \n",
              " 23                  3  \n",
              " 24                  3  \n",
              " 25                  3  \n",
              " 26                  3  \n",
              " 27                  3  \n",
              " 28                  3  \n",
              " 29                  3  \n",
              " 30                  3  \n",
              " 31                  3  \n",
              " 32                  3  \n",
              " 33                  3  \n",
              " 34                  3  \n",
              " 35                  3  \n",
              " 36                  3  \n",
              " 37                  3  \n",
              " 38                  3  \n",
              " 39                  3  \n",
              " 40                  3  \n",
              " 41                  3  \n",
              " 42                  3  \n",
              " 43                  3  \n",
              " 44                  3  \n",
              " 45                  2  \n",
              " 46                  2  \n",
              " 47                  2  \n",
              " 48                  2  \n",
              " 49                  2  \n",
              " 50                  2  \n",
              " 51                  2  \n",
              " 52                  2  \n",
              " 53                  2  ,\n",
              " -0.6666666666666665)"
            ]
          },
          "metadata": {},
          "execution_count": 3
        }
      ]
    },
    {
      "cell_type": "markdown",
      "source": [
        "**Structural Causal Models**"
      ],
      "metadata": {
        "id": "y78WMJevhyrT"
      }
    },
    {
      "cell_type": "code",
      "source": [
        "#1\n",
        "\n",
        "import numpy as np\n",
        "from scipy.stats import uniform, bernoulli\n",
        "\n",
        "# Define the number of samples for approximation\n",
        "n_samples = 1000000\n",
        "\n",
        "# Generate a sample for X\n",
        "X = uniform(0, 1/2).rvs(n_samples)\n",
        "\n",
        "# Generate a sample for A given X\n",
        "A = bernoulli(2*X).rvs()\n",
        "\n",
        "# Generate a sample for Y(0) given X and Y(1) given X\n",
        "Y_0 = bernoulli(X).rvs()\n",
        "Y_1 = bernoulli(X + 1/2).rvs()\n",
        "\n",
        "# Calculate the causal average treatment effect (CATE)\n",
        "# This is E[Y(1)] - E[Y(0)]\n",
        "CATE = np.mean(Y_1) - np.mean(Y_0)\n",
        "\n",
        "#2\n",
        "\n",
        "# Calculate the causal average risk ratio (CARR)\n",
        "# This is E[Y(1)] / E[Y(0)]\n",
        "CARR = np.mean(Y_1) / np.mean(Y_0)\n",
        "\n",
        "# Calculate the causal odds ratio (COR)\n",
        "# This is (E[Y(1)] / (1 - E[Y(1)])) / (E[Y(0)] / (1 - E[Y(0)]))\n",
        "COR = (np.mean(Y_1) / (1 - np.mean(Y_1))) / (np.mean(Y_0) / (1 - np.mean(Y_0)))\n",
        "\n",
        "CATE, CARR, COR\n"
      ],
      "metadata": {
        "colab": {
          "base_uri": "https://localhost:8080/"
        },
        "id": "OgWnKFdzh9Vj",
        "outputId": "f7503f70-cdce-4153-b8a6-2fb853d92020"
      },
      "execution_count": null,
      "outputs": [
        {
          "output_type": "execute_result",
          "data": {
            "text/plain": [
              "(0.49968399999999996, 2.9985921013687014, 8.984850463722045)"
            ]
          },
          "metadata": {},
          "execution_count": 4
        }
      ]
    },
    {
      "cell_type": "markdown",
      "source": [
        "1. The causal average treatment effect (CATE) is approximately \\( 0.498 \\), which means that on average, the treatment increases the probability of the outcome by about \\( 49.8\\% \\).\n",
        "\n",
        "2. The causal average risk ratio (CARR) is approximately \\( 2.987 \\), which implies that the risk (probability of the outcome) with the treatment is almost three times the risk without the treatment.  The causal odds ratio (COR) is approximately \\( 8.927 \\), indicating that the odds of the outcome with the treatment are about nine times the odds of the outcome without the treatment."
      ],
      "metadata": {
        "id": "t-C1znX3kKta"
      }
    },
    {
      "cell_type": "code",
      "source": [
        "#3\n",
        "\n",
        "import matplotlib.pyplot as plt\n",
        "import networkx as nx\n",
        "\n",
        "# Initialize a directed graph\n",
        "G = nx.DiGraph()\n",
        "\n",
        "# Add nodes for the causal DGP\n",
        "G.add_node(\"X\")\n",
        "G.add_node(\"A\")\n",
        "G.add_node(\"Y(0)\")\n",
        "G.add_node(\"Y(1)\")\n",
        "\n",
        "# Add nodes for the observable DGP\n",
        "G.add_node(\"Y\")\n",
        "\n",
        "# Add edges for the causal DGP\n",
        "G.add_edges_from([(\"X\", \"A\"), (\"X\", \"Y(0)\"), (\"X\", \"Y(1)\")])\n",
        "\n",
        "# Add edges for the observable DGP\n",
        "G.add_edges_from([(\"X\", \"A\"), (\"X\", \"Y\"), (\"A\", \"Y\")])\n",
        "\n",
        "# Plot the graphs\n",
        "plt.figure(figsize=(12, 6))\n",
        "\n",
        "# Causal DGP\n",
        "plt.subplot(121)\n",
        "pos = nx.spring_layout(G)  # positions for all nodes\n",
        "nx.draw_networkx_nodes(G, pos, nodelist=[\"X\", \"A\", \"Y(0)\", \"Y(1)\"], node_color='lightblue')\n",
        "nx.draw_networkx_edges(G, pos, edgelist=[(\"X\", \"A\"), (\"X\", \"Y(0)\"), (\"X\", \"Y(1)\")], edge_color='black')\n",
        "nx.draw_networkx_labels(G, pos)\n",
        "plt.title('Causal DGP')\n",
        "\n",
        "# Observable DGP\n",
        "plt.subplot(122)\n",
        "pos = nx.spring_layout(G)  # positions for all nodes\n",
        "nx.draw_networkx_nodes(G, pos, nodelist=[\"X\", \"A\", \"Y\"], node_color='lightgreen')\n",
        "nx.draw_networkx_edges(G, pos, edgelist=[(\"X\", \"A\"), (\"X\", \"Y\"), (\"A\", \"Y\")], edge_color='black')\n",
        "nx.draw_networkx_labels(G, pos)\n",
        "plt.title('Observable DGP')\n",
        "\n",
        "# Show plot\n",
        "plt.show()\n"
      ],
      "metadata": {
        "colab": {
          "base_uri": "https://localhost:8080/",
          "height": 521
        },
        "id": "rXafrnL6lZAl",
        "outputId": "9be40730-db7c-4aa7-bcd9-206163a8a4ee"
      },
      "execution_count": null,
      "outputs": [
        {
          "output_type": "display_data",
          "data": {
            "text/plain": [
              "<Figure size 1200x600 with 2 Axes>"
            ],
            "image/png": "[encoded data removed]"
          },
          "metadata": {}
        }
      ]
    },
    {
      "cell_type": "code",
      "source": [
        "#4\n",
        "\n",
        "# Naive Average Treatment Effect (ATE)\n",
        "naive_ATE = 0.833 - np.mean(X)  # E[Y|A=1] - E[Y|A=0], and E[Y|A=0] = E[X] since X ~ Uniform(0, 1/2)\n",
        "\n",
        "# Naive Risk Ratio\n",
        "naive_RR = 0.833 / np.mean(X)  # E[Y|A=1] / E[Y|A=0]\n",
        "\n",
        "# Naive Odds Ratio\n",
        "# Odds for A = 1 is E[Y|A=1] / (1 - E[Y|A=1])\n",
        "# Odds for A = 0 is E[Y|A=0] / (1 - E[Y|A=0])\n",
        "naive_OR = (0.833 / (1 - 0.833)) / (np.mean(X) / (1 - np.mean(X)))\n",
        "\n",
        "naive_ATE, naive_RR, naive_OR\n"
      ],
      "metadata": {
        "colab": {
          "base_uri": "https://localhost:8080/"
        },
        "id": "Vzl5eHE-lyT0",
        "outputId": "f8363988-f728-409e-b543-b3564575cac6"
      },
      "execution_count": null,
      "outputs": [
        {
          "output_type": "execute_result",
          "data": {
            "text/plain": [
              "(0.5829761946497111, 3.3316827525001007, 14.962172170659283)"
            ]
          },
          "metadata": {},
          "execution_count": 6
        }
      ]
    },
    {
      "cell_type": "markdown",
      "source": [
        "4. The naive Average Treatment Effect (ATE) is approximately \\( 0.583 \\), the naive Risk Ratio (RR) is approximately \\( 3.333 \\), and the naive Odds Ratio (OR) is approximately \\( 14.970 \\).\n",
        "\n",
        "5.\n",
        "- The causal ATE was approximately \\( 0.498 \\), which is lower than the naive ATE of \\( 0.583 \\).\n",
        "- The causal RR was approximately \\( 2.987 \\), which is lower than the naive RR of \\( 3.333 \\).\n",
        "- The causal OR was approximately \\( 8.927 \\), which is significantly lower than the naive OR of \\( 14.970 \\).\n",
        "\n",
        "If we used the naive estimands rather than the causal estimands, we would end up with an exaggerated view of the impact of \\( A \\) on \\( Y \\). This would suggest a more potent relationship between \\( A \\) and \\( Y \\) than what truly exists. It highlights why it's crucial to take into account the underlying causal relationships in the data when assessing the influence of an intervention. Relying on naive estimands could mislead us about the true magnitude of the effect and could lead to ill-informed decisions based on these overestimated effects."
      ],
      "metadata": {
        "id": "GZjPnwIBncFh"
      }
    },
    {
      "cell_type": "markdown",
      "source": [
        "**Confounding**"
      ],
      "metadata": {
        "id": "pKkjaZ7xnj50"
      }
    },
    {
      "cell_type": "markdown",
      "source": [
        "1. Despite having an infinite number of patients, we may not be able to directly calculate the average treatment effect because of potential confounding variables. These are variables that could affect the likelihood of a patient being in the stretching group and their self-reported pain levels.\n",
        "\n",
        "2. To convince your colleague that stretching might be harmful, you could mention that if patients with initially higher pain levels were more motivated to stretch and possessed the majority of the stretching group, the mean pain level would be higher in that group. The result from the data may be due to the initial differences in pain levels between the groups, which is a confounding factor. The observed association may not accurately reflect the true effect of stretching on pain reduction."
      ],
      "metadata": {
        "id": "JnSfxS4qoM2p"
      }
    },
    {
      "cell_type": "markdown",
      "source": [
        "**Causality and Intervention**"
      ],
      "metadata": {
        "id": "zzATmFlqpdBV"
      }
    },
    {
      "cell_type": "markdown",
      "source": [
        "1.\n",
        "The debate over the interpretation of causal effects involving non-manipulable variables, such as race or gender, presents theoretical and practical challenges in the realm of research and policy-making. Although direct manipulation and testing of these variables are not possible due to their inherent characteristics, they hold significant theoretical value. They serve as a means to understand potential outcomes and guide inquiry into manipulable variables that could yield similar effects. This hypothetical approach allows for the exploration of causal relationships and provides a framework for predicting the consequences of changes within these variables.\n",
        "\n",
        "In terms of testing causal claims, researchers are not completely at a loss when it comes to non-manipulable variables. Indirect methods such as observational studies can offer insights. These studies examine the consistency of real-world data with the predictions derived from theoretical models, using the presence of manipulable variables as proxies to approximate the influence of their non-manipulable counterparts. Such an approach can validate the assumptions made in causal models and, by extension, the implications these models have for the variables in question.\n",
        "\n",
        "From a policy-making perspective, the implications of non-manipulable variables are particularly pertinent. Understanding their theoretical impact can shape public health initiatives and inform policy decisions. For instance, if theoretical models suggest that diminishing the influence of a non-manipulable factor—like socioeconomic status—could lead to improved health outcomes, then policies could be crafted to adjust related, manipulable factors, such as access to education or healthcare. This strategy translates theoretical understanding into actionable policy. Moreover, while the semantics of causal effects in non-manipulable variables might lean towards the theoretical, their practical implications are nonetheless tangible. Models predicting the benefits of reducing systemic issues such as racial discrimination provide a basis for formulating policies. The success and efficacy of these policies can then be empirically evaluated, closing the loop between theoretical models and empirical evidence.\n",
        "\n",
        "2. I agree with Glymour, Clarka; Glymour, and Madelyn R from the Epidemiology Journal (https://journals.lww.com/epidem/Fulltext/2014/07000/Commentary__Race_and_Sex_Are_Causes.3.aspx?casa_token=FZ9gM0gQUuAAAAAA:UdQswflPS-MQfN24MkxjLA0tkEk0kVbqxvG-IodBqzS8QcHkj66_uhaF5cNpMOkhnrTLGXqcgUuiaxJNFPCuNQ). The authors' insights challenge the traditional confines of causal inference by arguing that causation extends beyond manipulable variables like socioeconomic status (SES), encompassing non-manipulable ones such as race and sex. They advocate for a more nuanced understanding of causation, recognizing it as both a tool for policy intervention and a way to trace the historical roots of outcomes. This perspective encourages a broader, more contextual approach to public health issues, acknowledging the complexity of societal factors and their interplay in health disparities."
      ],
      "metadata": {
        "id": "5vgoKhMvpprk"
      }
    },
    {
      "cell_type": "code",
      "source": [],
      "metadata": {
        "id": "6or4_WkexAZQ"
      },
      "execution_count": null,
      "outputs": []
    }
  ]
}